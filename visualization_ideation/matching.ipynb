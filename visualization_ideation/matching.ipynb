{
 "cells": [
  {
   "cell_type": "code",
   "execution_count": 14,
   "metadata": {},
   "outputs": [],
   "source": [
    "from sshtunnel import SSHTunnelForwarder\n",
    "import psycopg2\n",
    "import pandas as pd\n",
    "\n",
    "def get_db_connection():\n",
    "    server = SSHTunnelForwarder(\n",
    "        ('letsrise.myonline.works', 22),  # SSH server and port\n",
    "        ssh_username='ubuntu',  # SSH username\n",
    "        ssh_pkey='~/.ssh/id_letsrise',  # Path to your private key\n",
    "        remote_bind_address=('localhost', 5432)  # Database server and port\n",
    "    )\n",
    "\n",
    "    server.start()\n",
    "\n",
    "    conn = psycopg2.connect(\n",
    "        dbname='letsrise_v1',\n",
    "        user='letsrise_intern',\n",
    "        password='letsrise',\n",
    "        host='localhost',\n",
    "        port=server.local_bind_port  # Use the dynamically assigned local port\n",
    "    )\n",
    "    return conn, server"
   ]
  },
  {
   "cell_type": "code",
   "execution_count": 19,
   "metadata": {},
   "outputs": [],
   "source": [
    "conn, server = get_db_connection()\n",
    "query1 = \"\"\"\n",
    "SELECT * FROM public.user_info\n",
    "ORDER BY user_id ASC \n",
    "\"\"\"\n",
    "df = pd.read_sql(query1, conn)\n",
    "conn.close()\n",
    "server.stop()"
   ]
  },
  {
   "cell_type": "code",
   "execution_count": 20,
   "metadata": {},
   "outputs": [
    {
     "data": {
      "text/plain": [
       "Index(['user_id', 'name', 'email', 'age', 'linkedin_url', 'education_level',\n",
       "       'employment_status', 'entrepreneurial_experience',\n",
       "       'current_startup_stage', 'number_of_startups',\n",
       "       'role_in_entrepreneurship', 'industry_experience',\n",
       "       'number_of_previous_startups', 'location', 'gender', 'startup_name'],\n",
       "      dtype='object')"
      ]
     },
     "execution_count": 20,
     "metadata": {},
     "output_type": "execute_result"
    }
   ],
   "source": [
    "df.columns"
   ]
  },
  {
   "cell_type": "code",
   "execution_count": 22,
   "metadata": {},
   "outputs": [
    {
     "data": {
      "text/html": [
       "\n",
       "        <iframe\n",
       "            width=\"100%\"\n",
       "            height=\"650\"\n",
       "            src=\"http://127.0.0.1:8050/\"\n",
       "            frameborder=\"0\"\n",
       "            allowfullscreen\n",
       "            \n",
       "        ></iframe>\n",
       "        "
      ],
      "text/plain": [
       "<IPython.lib.display.IFrame at 0x136801070>"
      ]
     },
     "metadata": {},
     "output_type": "display_data"
    }
   ],
   "source": [
    "import dash\n",
    "import dash_core_components as dcc\n",
    "import dash_html_components as html\n",
    "from dash.dependencies import Input, Output\n",
    "import pandas as pd\n",
    "\n",
    "# Initialize the Dash app\n",
    "app = dash.Dash(__name__)\n",
    "\n",
    "# Layout of the Dash app with the given color palette\n",
    "app.layout = html.Div(style={'backgroundColor': '#f7f7f7', 'fontFamily': 'Poppins, sans-serif'}, children=[\n",
    "    dcc.Dropdown(\n",
    "        id='user-dropdown',\n",
    "        options=[{'label': name, 'value': user_id} for user_id, name in zip(df['user_id'], df['name'])],\n",
    "        placeholder=\"Select a User\",\n",
    "        style={'marginBottom': '10px'}\n",
    "    ),\n",
    "    dcc.Dropdown(\n",
    "        id='type-dropdown',\n",
    "        options=[\n",
    "            {'label': 'Business Partner', 'value': 'business_partner'},\n",
    "            {'label': 'Mentor', 'value': 'mentor'}\n",
    "        ],\n",
    "        placeholder=\"Select Type\",\n",
    "        style={'marginBottom': '10px'}\n",
    "    ),\n",
    "    dcc.Dropdown(\n",
    "        id='industry-dropdown',\n",
    "        placeholder=\"Select Industry Experience\",\n",
    "        style={'marginBottom': '20px'}\n",
    "    ),\n",
    "    html.Div(id='results', style={'color': '#111', 'padding': '20px', 'border': '1px solid #ccc', 'borderRadius': '5px', 'boxShadow': '0 1px 3px rgba(0, 0, 0, 0.1)', 'backgroundColor': '#fff'}),\n",
    "])\n",
    "\n",
    "# Callback to update the industry dropdown based on the unique values in the DataFrame\n",
    "@app.callback(\n",
    "    Output('industry-dropdown', 'options'),\n",
    "    Input('type-dropdown', 'value')\n",
    ")\n",
    "def set_industry_options(selected_type):\n",
    "    if selected_type:\n",
    "        unique_industries = df['industry_experience'].dropna().unique()\n",
    "        return [{'label': industry, 'value': industry} for industry in unique_industries]\n",
    "    return []\n",
    "\n",
    "# Callback to update the results based on selected user, type, and industry experience\n",
    "@app.callback(\n",
    "    Output('results', 'children'),\n",
    "    [Input('user-dropdown', 'value'),\n",
    "     Input('type-dropdown', 'value'),\n",
    "     Input('industry-dropdown', 'value')]\n",
    ")\n",
    "def update_results(selected_user, selected_type, selected_industry):\n",
    "    if not selected_user or not selected_type or not selected_industry:\n",
    "        return \"Please make all selections.\"\n",
    "\n",
    "    filtered_df = df[df['industry_experience'] == selected_industry]\n",
    "    \n",
    "    if selected_type == 'business_partner':\n",
    "        top_5 = filtered_df[filtered_df['user_id'] != selected_user].head(5)\n",
    "    elif selected_type == 'mentor':\n",
    "        top_5 = filtered_df[filtered_df['user_id'] != selected_user].sort_values(by='entrepreneurial_experience', ascending=False).head(5)\n",
    "    \n",
    "    return html.Ul([\n",
    "        html.Li([\n",
    "            f\"{row['name']} - {row['industry_experience']} - {row['entrepreneurial_experience']} years of experience\"\n",
    "        ]) for idx, row in top_5.iterrows()\n",
    "    ])\n",
    "\n",
    "# Run the app\n",
    "if __name__ == '__main__':\n",
    "    app.run_server(debug=True)\n"
   ]
  },
  {
   "cell_type": "code",
   "execution_count": 26,
   "metadata": {},
   "outputs": [
    {
     "name": "stdout",
     "output_type": "stream",
     "text": [
      "Successfully authenticated with Gmail API.\n",
      "Error occurred: <HttpError 400 when requesting https://gmail.googleapis.com/gmail/v1/users/me/messages/send?alt=json returned \"Precondition check failed.\". Details: \"[{'message': 'Precondition check failed.', 'domain': 'global', 'reason': 'failedPrecondition'}]\">\n"
     ]
    }
   ],
   "source": [
    "from google.oauth2 import service_account\n",
    "from googleapiclient.discovery import build\n",
    "from email.mime.text import MIMEText\n",
    "import base64\n",
    "\n",
    "# Path to your service account key file for Gmail API\n",
    "key_file_path = 'letsrise-caed029c5496.json'\n",
    "\n",
    "# Create credentials\n",
    "credentials = service_account.Credentials.from_service_account_file(\n",
    "    key_file_path, scopes=['https://www.googleapis.com/auth/gmail.send'])\n",
    "\n",
    "try:\n",
    "    # Build the Gmail service\n",
    "    service = build('gmail', 'v1', credentials=credentials)\n",
    "    print(\"Successfully authenticated with Gmail API.\")\n",
    "\n",
    "    # Example: Sending an email\n",
    "    to_email = 'svn9705@nyu.edu'\n",
    "    subject = 'Test Email'\n",
    "    message_text = 'This is a test email sent from Gmail API.'\n",
    "\n",
    "    message = MIMEText(message_text)\n",
    "    message['to'] = to_email\n",
    "    message['from'] = 'svn9705@nyu.edu'\n",
    "    message['subject'] = subject\n",
    "    raw_message = base64.urlsafe_b64encode(message.as_bytes()).decode()\n",
    "\n",
    "    # Send the email\n",
    "    sent_message = service.users().messages().send(userId='me', body={'raw': raw_message}).execute()\n",
    "    print('Message Id: %s' % sent_message['id'])\n",
    "\n",
    "except Exception as e:\n",
    "    print(f\"Error occurred: {e}\")\n"
   ]
  },
  {
   "cell_type": "code",
   "execution_count": null,
   "metadata": {},
   "outputs": [],
   "source": []
  }
 ],
 "metadata": {
  "kernelspec": {
   "display_name": "Python 3",
   "language": "python",
   "name": "python3"
  },
  "language_info": {
   "codemirror_mode": {
    "name": "ipython",
    "version": 3
   },
   "file_extension": ".py",
   "mimetype": "text/x-python",
   "name": "python",
   "nbconvert_exporter": "python",
   "pygments_lexer": "ipython3",
   "version": "3.12.4"
  },
  "orig_nbformat": 4
 },
 "nbformat": 4,
 "nbformat_minor": 2
}
